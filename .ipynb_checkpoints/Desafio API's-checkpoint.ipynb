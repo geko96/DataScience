{
 "cells": [
  {
   "cell_type": "code",
   "execution_count": 4,
   "id": "a3c428a9",
   "metadata": {},
   "outputs": [],
   "source": [
    "import requests\n",
    "import pandas as pd\n",
    "import hmac\n",
    "import hashlib\n",
    "import time"
   ]
  },
  {
   "cell_type": "code",
   "execution_count": 18,
   "id": "0cbf749f",
   "metadata": {},
   "outputs": [
    {
     "name": "stdout",
     "output_type": "stream",
     "text": [
      "Operaciones Históricas:\n",
      "           id           price         qty    quoteQty           time  \\\n",
      "0  3393156859  41846.87000000  0.00021000  8.78784270  1706471656171   \n",
      "1  3393156860  41847.11000000  0.00021000  8.78789310  1706471656171   \n",
      "2  3393156861  41847.35000000  0.00021000  8.78794350  1706471656171   \n",
      "3  3393156862  41847.59000000  0.00021000  8.78799390  1706471656171   \n",
      "4  3393156863  41847.83000000  0.00021000  8.78804430  1706471656180   \n",
      "\n",
      "   isBuyerMaker  isBestMatch  \n",
      "0         False         True  \n",
      "1         False         True  \n",
      "2         False         True  \n",
      "3         False         True  \n",
      "4         False         True  \n",
      "\n",
      "Precios Históricos:\n"
     ]
    }
   ],
   "source": [
    "# Tus credenciales de Binance\n",
    "api_key = '4BfPXEo2L55fb4WFe6EaNVVCl3JBuCyrEn75lM3y6R1Ut7HiLqTKBfBe5wquc85d'\n",
    "api_secret = '9MZFj7DhnZTOViXtjMq7oupWg7aaN4bx7Xc7qb4ezPL0MOQt0IXKHLylYngFFPA0'\n",
    "\n",
    "# Función para firmar los parámetros\n",
    "def sign_request(api_secret, params):\n",
    "    query_string = '&'.join([\"{}={}\".format(d, params[d]) for d in params])\n",
    "    signature = hmac.new(api_secret.encode(), query_string.encode(), hashlib.sha256).hexdigest()\n",
    "    return signature\n",
    "\n",
    "# Obtener operaciones históricas\n",
    "def get_historical_trades(api_key, api_secret):\n",
    "    url = \"https://api.binance.com/api/v3/historicalTrades\"\n",
    "    params = {\n",
    "        'symbol': 'BTCUSDT',\n",
    "        'limit': 500\n",
    "    }\n",
    "    headers = {'X-MBX-APIKEY': api_key}\n",
    "    response = requests.get(url, headers=headers, params=params)\n",
    "\n",
    "    if response.status_code != 200:\n",
    "        print(f\"Error en la solicitud de operaciones históricas: Código de estado {response.status_code}\")\n",
    "        print(response.text)\n",
    "        return None\n",
    "    else:\n",
    "        return pd.DataFrame(response.json())\n",
    "\n",
    "# Obtener precios históricos\n",
    "def get_historical_prices(api_key, api_secret):\n",
    "    url = \"https://api.binance.com/api/v3/klines\"\n",
    "    params = {\n",
    "        'symbol': 'BTCUSDT',\n",
    "        'interval': '1h',\n",
    "        'limit': 500\n",
    "    }\n",
    "    headers = {'X-MBX-APIKEY': api_key}\n",
    "    response = requests.get(url, headers=headers, params=params)\n",
    "\n",
    "    if response.status_code != 200:\n",
    "        print(f\"Error en la solicitud de precios históricos: Código de estado {response.status_code}\")\n",
    "        print(response.text)\n",
    "        return None\n",
    "    else:\n",
    "        data = response.json()\n",
    "        columns = ['Open Time', 'Open', 'High', 'Low', 'Close', 'Volume', 'Close Time', 'Quote Asset Volume', 'Number of Trades', 'Taker Buy Base Asset Volume', 'Taker Buy Quote Asset Volume', 'Ignore']\n",
    "        df = pd.DataFrame(data, columns=columns)\n",
    "        df['Open Time'] = pd.to_datetime(df['Open Time'], unit='ms')\n",
    "        df['Close Time'] = pd.to_datetime(df['Close Time'], unit='ms')\n",
    "        return df\n",
    "\n",
    "# Recopilar los datos\n",
    "df_trades = get_historical_trades(api_key, api_secret)\n",
    "df_prices = get_historical_prices(api_key, api_secret)\n",
    "\n",
    "# Mostrar los datos\n",
    "if df_trades is not None:\n",
    "    print(\"Operaciones Históricas:\")\n",
    "    print(df_trades.head())\n",
    "\n",
    "if df_prices is not None:\n",
    "    print(\"\\nPrecios Históricos:\")\n",
    "    print(df_prices.head())"
   ]
  },
  {
   "cell_type": "code",
   "execution_count": null,
   "id": "39227acb",
   "metadata": {},
   "outputs": [],
   "source": []
  }
 ],
 "metadata": {
  "kernelspec": {
   "display_name": "Python 3 (ipykernel)",
   "language": "python",
   "name": "python3"
  },
  "language_info": {
   "codemirror_mode": {
    "name": "ipython",
    "version": 3
   },
   "file_extension": ".py",
   "mimetype": "text/x-python",
   "name": "python",
   "nbconvert_exporter": "python",
   "pygments_lexer": "ipython3",
   "version": "3.11.5"
  }
 },
 "nbformat": 4,
 "nbformat_minor": 5
}
